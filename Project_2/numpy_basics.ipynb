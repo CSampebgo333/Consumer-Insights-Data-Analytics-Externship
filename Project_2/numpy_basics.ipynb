{
  "nbformat": 4,
  "nbformat_minor": 0,
  "metadata": {
    "colab": {
      "provenance": []
    },
    "kernelspec": {
      "name": "python3",
      "display_name": "Python 3"
    },
    "language_info": {
      "name": "python"
    }
  },
  "cells": [
    {
      "cell_type": "markdown",
      "source": [
        "# Module: **NumPy**\n",
        "# In this module about **NumPy**, we will cover the four main uses of the **NumPy framework**:\n",
        "\n",
        "# **1. Create**\n",
        "Learn how to create arrays and perform basic array operations.\n",
        "\n",
        "# **2. Read**\n",
        "Understand how to read and access array elements efficiently.\n",
        "\n",
        "# **3. Update**\n",
        "Discover methods to update and modify array contents.\n",
        "\n",
        "# **4. Delete**\n",
        "Explore techniques for deleting elements or entire arrays."
      ],
      "metadata": {
        "id": "hSEJR0rP6u94"
      }
    },
    {
      "cell_type": "code",
      "source": [
        "!pip install numpy             # Since this work has been done on Google Colab,\n",
        "                               # it was not necessary to install the numpy since it is already installed in default."
      ],
      "metadata": {
        "colab": {
          "base_uri": "https://localhost:8080/"
        },
        "id": "vetGNkvqCCm1",
        "outputId": "812ccf4a-3c5c-4b4c-fb6a-c54415290a1d"
      },
      "execution_count": 1,
      "outputs": [
        {
          "output_type": "stream",
          "name": "stdout",
          "text": [
            "Requirement already satisfied: numpy in /usr/local/lib/python3.10/dist-packages (1.25.2)\n"
          ]
        }
      ]
    },
    {
      "cell_type": "code",
      "source": [
        "import numpy as np              # Imports the numpy framewrok."
      ],
      "metadata": {
        "id": "gIN6ckaHDBTG"
      },
      "execution_count": 2,
      "outputs": []
    },
    {
      "cell_type": "markdown",
      "source": [
        "# **1. Creation**\n",
        "\n"
      ],
      "metadata": {
        "id": "IOR1yPdNBmlR"
      }
    },
    {
      "cell_type": "code",
      "source": [
        "data = np.random.rand(2, 3, 4)  # Details: '2' = number of raw groups, '3' = number of lines in each raw group and '4' = number of colums\n",
        "zeroes = np.zeros((2, 3, 4))\n",
        "full = np.full((2, 2, 2), 7)\n",
        "ones =  np.ones((2, 2, 2))"
      ],
      "metadata": {
        "id": "zWeUTh7gBrxi"
      },
      "execution_count": 32,
      "outputs": []
    },
    {
      "cell_type": "code",
      "source": [
        "data"
      ],
      "metadata": {
        "colab": {
          "base_uri": "https://localhost:8080/"
        },
        "id": "2sK08sZMzTAo",
        "outputId": "53946fd8-e30d-4abc-8e38-8636f6253131"
      },
      "execution_count": 41,
      "outputs": [
        {
          "output_type": "execute_result",
          "data": {
            "text/plain": [
              "array([[[0.09720237, 0.57855517, 0.32851135, 0.09045753],\n",
              "        [0.15621137, 0.3009563 , 0.99364617, 0.09373161],\n",
              "        [0.00721174, 0.86046265, 0.42262414, 0.38922245]],\n",
              "\n",
              "       [[0.77621116, 0.142538  , 0.78021992, 0.03084569],\n",
              "        [0.83679078, 0.35809691, 0.25145479, 0.69068056],\n",
              "        [0.13731619, 0.46913334, 0.3344226 , 0.15116951]]])"
            ]
          },
          "metadata": {},
          "execution_count": 41
        }
      ]
    },
    {
      "cell_type": "code",
      "source": [
        "zeroes"
      ],
      "metadata": {
        "colab": {
          "base_uri": "https://localhost:8080/"
        },
        "id": "2yCzr3ENzWh3",
        "outputId": "ddb45a7b-b4e5-46d9-a94b-224ce419b014"
      },
      "execution_count": 33,
      "outputs": [
        {
          "output_type": "execute_result",
          "data": {
            "text/plain": [
              "array([[[0., 0., 0., 0.],\n",
              "        [0., 0., 0., 0.],\n",
              "        [0., 0., 0., 0.]],\n",
              "\n",
              "       [[0., 0., 0., 0.],\n",
              "        [0., 0., 0., 0.],\n",
              "        [0., 0., 0., 0.]]])"
            ]
          },
          "metadata": {},
          "execution_count": 33
        }
      ]
    },
    {
      "cell_type": "code",
      "source": [
        "full"
      ],
      "metadata": {
        "colab": {
          "base_uri": "https://localhost:8080/"
        },
        "id": "FgokOOB8zbUH",
        "outputId": "6a4f442c-59f3-4d53-87dc-2cc08cee3f0d"
      },
      "execution_count": 7,
      "outputs": [
        {
          "output_type": "execute_result",
          "data": {
            "text/plain": [
              "array([[[7, 7],\n",
              "        [7, 7]],\n",
              "\n",
              "       [[7, 7],\n",
              "        [7, 7]]])"
            ]
          },
          "metadata": {},
          "execution_count": 7
        }
      ]
    },
    {
      "cell_type": "code",
      "source": [
        "ones"
      ],
      "metadata": {
        "colab": {
          "base_uri": "https://localhost:8080/"
        },
        "id": "1dP_OxxtzdoP",
        "outputId": "d8f875b4-4a19-4176-9ec5-1a29eb64e242"
      },
      "execution_count": 8,
      "outputs": [
        {
          "output_type": "execute_result",
          "data": {
            "text/plain": [
              "array([[[1., 1.],\n",
              "        [1., 1.]],\n",
              "\n",
              "       [[1., 1.],\n",
              "        [1., 1.]]])"
            ]
          },
          "metadata": {},
          "execution_count": 8
        }
      ]
    },
    {
      "cell_type": "markdown",
      "source": [
        "**How to create a numpy array**"
      ],
      "metadata": {
        "id": "-zPXtSrLzoyg"
      }
    },
    {
      "cell_type": "code",
      "source": [
        "my_array = np.array([[1, 2, 3], [4, 5, 6], [7, 8, 9]])         # Use the 'array' method."
      ],
      "metadata": {
        "id": "jAQQ_q6Uzu04"
      },
      "execution_count": 17,
      "outputs": []
    },
    {
      "cell_type": "code",
      "source": [
        "type(my_array)"
      ],
      "metadata": {
        "colab": {
          "base_uri": "https://localhost:8080/"
        },
        "id": "bB4RT2VC0j1E",
        "outputId": "ace7ee3e-272b-40ec-8e0d-9e6387375d03"
      },
      "execution_count": 18,
      "outputs": [
        {
          "output_type": "execute_result",
          "data": {
            "text/plain": [
              "numpy.ndarray"
            ]
          },
          "metadata": {},
          "execution_count": 18
        }
      ]
    },
    {
      "cell_type": "code",
      "source": [
        "my_array"
      ],
      "metadata": {
        "colab": {
          "base_uri": "https://localhost:8080/"
        },
        "id": "siOb47DZ0m9t",
        "outputId": "ad927ea1-399c-4a47-e620-dd1650281423"
      },
      "execution_count": 19,
      "outputs": [
        {
          "output_type": "execute_result",
          "data": {
            "text/plain": [
              "array([[1, 2, 3],\n",
              "       [4, 5, 6],\n",
              "       [7, 8, 9]])"
            ]
          },
          "metadata": {},
          "execution_count": 19
        }
      ]
    },
    {
      "cell_type": "markdown",
      "source": [
        "# **2. Reading**"
      ],
      "metadata": {
        "id": "GQvjiw6D0s1X"
      }
    },
    {
      "cell_type": "markdown",
      "source": [
        "**Attributes**"
      ],
      "metadata": {
        "id": "tfLctOTg1C4M"
      }
    },
    {
      "cell_type": "code",
      "source": [
        "_shape = data.shape\n",
        "_type = data.dtype\n",
        "_size = data.size"
      ],
      "metadata": {
        "id": "hHNY3IKV046v"
      },
      "execution_count": 22,
      "outputs": []
    },
    {
      "cell_type": "code",
      "source": [
        "_shape            # As we can see in the result bellow, 'shape' method returns the contain of the array."
      ],
      "metadata": {
        "colab": {
          "base_uri": "https://localhost:8080/"
        },
        "id": "oQ3QNccU1iKv",
        "outputId": "e3c32523-ed79-4d64-927b-92bba931a2c4"
      },
      "execution_count": 23,
      "outputs": [
        {
          "output_type": "execute_result",
          "data": {
            "text/plain": [
              "(2, 3, 4)"
            ]
          },
          "metadata": {},
          "execution_count": 23
        }
      ]
    },
    {
      "cell_type": "code",
      "source": [
        "_type             # While 'dtype' method returns the type of the data of the array."
      ],
      "metadata": {
        "colab": {
          "base_uri": "https://localhost:8080/"
        },
        "id": "4nFpo36j14oG",
        "outputId": "4ad8c2be-0d49-4254-a9e4-13144bae9533"
      },
      "execution_count": 24,
      "outputs": [
        {
          "output_type": "execute_result",
          "data": {
            "text/plain": [
              "dtype('float64')"
            ]
          },
          "metadata": {},
          "execution_count": 24
        }
      ]
    },
    {
      "cell_type": "code",
      "source": [
        "_size             # As we can see in the result bellow, 'size' method returns the number of items in the array."
      ],
      "metadata": {
        "colab": {
          "base_uri": "https://localhost:8080/"
        },
        "id": "EGRj3LmW2Ikp",
        "outputId": "83de59a4-ebb0-4868-b865-bad0ae7970fa"
      },
      "execution_count": 27,
      "outputs": [
        {
          "output_type": "execute_result",
          "data": {
            "text/plain": [
              "24"
            ]
          },
          "metadata": {},
          "execution_count": 27
        }
      ]
    },
    {
      "cell_type": "markdown",
      "source": [
        "**Slicing**"
      ],
      "metadata": {
        "id": "T_DFuqT55bpS"
      }
    },
    {
      "cell_type": "code",
      "source": [
        "first_data = data[0]                # Returns the first raw group.\n",
        "from_zero_to_2 = data[0][0:2]       # Returns the first two raws of the first raw group.\n",
        "my_reverse = data[-1]               # Returns the last raw group.\n",
        "single_value_first = data[0][0][0]        # Returns the first element of the first raw of the raw group.\n",
        "single_value_last = data[-1][-1][0]       # Returns the first element of last raw of the last raw group."
      ],
      "metadata": {
        "id": "Yem38YtJ3AT4"
      },
      "execution_count": 47,
      "outputs": []
    },
    {
      "cell_type": "code",
      "source": [
        "first_data"
      ],
      "metadata": {
        "colab": {
          "base_uri": "https://localhost:8080/"
        },
        "id": "-wnFbaRk8sik",
        "outputId": "863ae8b2-0b00-421f-afdb-7e72c555cb91"
      },
      "execution_count": 40,
      "outputs": [
        {
          "output_type": "execute_result",
          "data": {
            "text/plain": [
              "array([[0.09720237, 0.57855517, 0.32851135, 0.09045753],\n",
              "       [0.15621137, 0.3009563 , 0.99364617, 0.09373161],\n",
              "       [0.00721174, 0.86046265, 0.42262414, 0.38922245]])"
            ]
          },
          "metadata": {},
          "execution_count": 40
        }
      ]
    },
    {
      "cell_type": "code",
      "source": [
        "from_zero_to_2"
      ],
      "metadata": {
        "colab": {
          "base_uri": "https://localhost:8080/"
        },
        "id": "p6uXGT4v_GrJ",
        "outputId": "008ba419-373f-4f1f-987c-b7fa49003fdb"
      },
      "execution_count": 44,
      "outputs": [
        {
          "output_type": "execute_result",
          "data": {
            "text/plain": [
              "array([[0.09720237, 0.57855517, 0.32851135, 0.09045753],\n",
              "       [0.15621137, 0.3009563 , 0.99364617, 0.09373161]])"
            ]
          },
          "metadata": {},
          "execution_count": 44
        }
      ]
    },
    {
      "cell_type": "code",
      "source": [
        "my_reverse"
      ],
      "metadata": {
        "colab": {
          "base_uri": "https://localhost:8080/"
        },
        "id": "oSGF-7zf_iVL",
        "outputId": "987fbc73-dba1-4b63-9347-1c6c69e60085"
      },
      "execution_count": 46,
      "outputs": [
        {
          "output_type": "execute_result",
          "data": {
            "text/plain": [
              "array([[0.77621116, 0.142538  , 0.78021992, 0.03084569],\n",
              "       [0.83679078, 0.35809691, 0.25145479, 0.69068056],\n",
              "       [0.13731619, 0.46913334, 0.3344226 , 0.15116951]])"
            ]
          },
          "metadata": {},
          "execution_count": 46
        }
      ]
    },
    {
      "cell_type": "code",
      "source": [
        "single_value_first"
      ],
      "metadata": {
        "colab": {
          "base_uri": "https://localhost:8080/"
        },
        "id": "McEbPrDhBZ0M",
        "outputId": "0fb1d8b4-b32b-436d-f126-243d911129c8"
      },
      "execution_count": 48,
      "outputs": [
        {
          "output_type": "execute_result",
          "data": {
            "text/plain": [
              "0.09720236702736362"
            ]
          },
          "metadata": {},
          "execution_count": 48
        }
      ]
    },
    {
      "cell_type": "code",
      "source": [
        "single_value_last"
      ],
      "metadata": {
        "colab": {
          "base_uri": "https://localhost:8080/"
        },
        "id": "JJrYG1EMBdPM",
        "outputId": "077666cb-6bcb-41c4-d48b-17b701eacd53"
      },
      "execution_count": 49,
      "outputs": [
        {
          "output_type": "execute_result",
          "data": {
            "text/plain": [
              "0.13731619028171982"
            ]
          },
          "metadata": {},
          "execution_count": 49
        }
      ]
    },
    {
      "cell_type": "markdown",
      "source": [
        "# **3. Update**\n",
        "\n",
        "**NB:** *Most of lists' methods works with numpy arrays, so do not hesitate to try them as well.*"
      ],
      "metadata": {
        "id": "93UXDpASB6-v"
      }
    },
    {
      "cell_type": "markdown",
      "source": [
        "***Let's first create news numpy arrays***"
      ],
      "metadata": {
        "id": "Gk1KYHxoCidm"
      }
    },
    {
      "cell_type": "code",
      "source": [
        "list_1 = np.random.rand(5)      # This form (a, b, c) of the numpy array is conserve with now, (a = 1, b = 5, c = 1)\n",
        "list_2 = np.random.rand(3)      # Indem here to with (a = 1, b = 3, c = 1)"
      ],
      "metadata": {
        "id": "o9RzcNHEB_8j"
      },
      "execution_count": 50,
      "outputs": []
    },
    {
      "cell_type": "markdown",
      "source": [
        "***Now let's see their normal output.***"
      ],
      "metadata": {
        "id": "r07IBxU_CqYq"
      }
    },
    {
      "cell_type": "code",
      "source": [
        "list_1"
      ],
      "metadata": {
        "colab": {
          "base_uri": "https://localhost:8080/"
        },
        "id": "PL1EBtkdC648",
        "outputId": "994b9785-4ac9-41a1-f5f7-1cc9a9bedce2"
      },
      "execution_count": 51,
      "outputs": [
        {
          "output_type": "execute_result",
          "data": {
            "text/plain": [
              "array([0.56769321, 0.54626043, 0.41200047, 0.55389933, 0.11123296])"
            ]
          },
          "metadata": {},
          "execution_count": 51
        }
      ]
    },
    {
      "cell_type": "code",
      "source": [
        "list_2"
      ],
      "metadata": {
        "colab": {
          "base_uri": "https://localhost:8080/"
        },
        "id": "Vy2V6u3IC-7w",
        "outputId": "907954e1-2474-497f-f0cc-189367d8bdd2"
      },
      "execution_count": 52,
      "outputs": [
        {
          "output_type": "execute_result",
          "data": {
            "text/plain": [
              "array([0.03127962, 0.05969581, 0.42130166])"
            ]
          },
          "metadata": {},
          "execution_count": 52
        }
      ]
    },
    {
      "cell_type": "markdown",
      "source": [
        "# **Basic Maths**\n",
        "\n",
        "**NB:** *operands could not be broadcast together with shapes (5,) (3,).*"
      ],
      "metadata": {
        "id": "KWs5wHiPDEiL"
      }
    },
    {
      "cell_type": "markdown",
      "source": [
        "Therefore, let's first rewrite our arrays."
      ],
      "metadata": {
        "id": "Nniyv08pD5OV"
      }
    },
    {
      "cell_type": "code",
      "source": [
        "list_1 = np.random.rand(5)\n",
        "list_2 = np.random.rand(5)"
      ],
      "metadata": {
        "id": "J7wjilBtD_Kc"
      },
      "execution_count": 59,
      "outputs": []
    },
    {
      "cell_type": "markdown",
      "source": [
        "**Let's see again their normal outputs**"
      ],
      "metadata": {
        "id": "dh4dfO0OEQK8"
      }
    },
    {
      "cell_type": "code",
      "source": [
        "list_1"
      ],
      "metadata": {
        "colab": {
          "base_uri": "https://localhost:8080/"
        },
        "id": "jqe7bshlET69",
        "outputId": "9e672e03-cb75-4b37-dded-23c8d1494727"
      },
      "execution_count": 60,
      "outputs": [
        {
          "output_type": "execute_result",
          "data": {
            "text/plain": [
              "array([0.52483584, 0.88243043, 0.80330277, 0.92018639, 0.57960254])"
            ]
          },
          "metadata": {},
          "execution_count": 60
        }
      ]
    },
    {
      "cell_type": "code",
      "source": [
        "list_2"
      ],
      "metadata": {
        "colab": {
          "base_uri": "https://localhost:8080/"
        },
        "id": "sklnRfEGEXZg",
        "outputId": "fe9146f2-4d9d-4211-8052-626b5727d03f"
      },
      "execution_count": 61,
      "outputs": [
        {
          "output_type": "execute_result",
          "data": {
            "text/plain": [
              "array([0.52345927, 0.5017687 , 0.33429878, 0.32729083, 0.15176571])"
            ]
          },
          "metadata": {},
          "execution_count": 61
        }
      ]
    },
    {
      "cell_type": "markdown",
      "source": [
        "**Calculations**"
      ],
      "metadata": {
        "id": "bcSNLxUTEg4t"
      }
    },
    {
      "cell_type": "code",
      "source": [
        "add_list = np.add(list_1, list_2)\n",
        "substract_list = np.subtract(list_1, list_2)\n",
        "multiply_list = np.multiply(list_1, list_2)\n",
        "divid_list = np.divide(list_1, list_2)\n",
        "dot = np.dot(list_1, list_2)"
      ],
      "metadata": {
        "id": "oyd-aR4sDK8p"
      },
      "execution_count": 63,
      "outputs": []
    },
    {
      "cell_type": "markdown",
      "source": [
        "**Results**"
      ],
      "metadata": {
        "id": "dUEEAVN3En20"
      }
    },
    {
      "cell_type": "code",
      "source": [
        "add_list"
      ],
      "metadata": {
        "colab": {
          "base_uri": "https://localhost:8080/"
        },
        "id": "zShx7wuUEqUC",
        "outputId": "f6705fab-3510-482d-d9d4-98744b4a54fc"
      },
      "execution_count": 64,
      "outputs": [
        {
          "output_type": "execute_result",
          "data": {
            "text/plain": [
              "array([1.04829511, 1.38419912, 1.13760155, 1.24747722, 0.73136825])"
            ]
          },
          "metadata": {},
          "execution_count": 64
        }
      ]
    },
    {
      "cell_type": "code",
      "source": [
        "substract_list"
      ],
      "metadata": {
        "colab": {
          "base_uri": "https://localhost:8080/"
        },
        "id": "ahiuOXVoEs1m",
        "outputId": "ce6a35a8-d95b-4a3e-aff2-f74db44b37d7"
      },
      "execution_count": 65,
      "outputs": [
        {
          "output_type": "execute_result",
          "data": {
            "text/plain": [
              "array([0.00137657, 0.38066173, 0.469004  , 0.59289557, 0.42783682])"
            ]
          },
          "metadata": {},
          "execution_count": 65
        }
      ]
    },
    {
      "cell_type": "code",
      "source": [
        "multiply_list"
      ],
      "metadata": {
        "colab": {
          "base_uri": "https://localhost:8080/"
        },
        "id": "ACe1q18GEukw",
        "outputId": "00e26e96-da3e-4bba-be46-7c23f0b254da"
      },
      "execution_count": 66,
      "outputs": [
        {
          "output_type": "execute_result",
          "data": {
            "text/plain": [
              "array([0.27473019, 0.44277597, 0.26854313, 0.30116857, 0.08796379])"
            ]
          },
          "metadata": {},
          "execution_count": 66
        }
      ]
    },
    {
      "cell_type": "code",
      "source": [
        "divid_list"
      ],
      "metadata": {
        "colab": {
          "base_uri": "https://localhost:8080/"
        },
        "id": "3uumz-b6EwSP",
        "outputId": "f04fc7af-f9da-4bdf-b4dd-8fcbc5726f7f"
      },
      "execution_count": 67,
      "outputs": [
        {
          "output_type": "execute_result",
          "data": {
            "text/plain": [
              "array([1.00262976, 1.75863986, 2.4029486 , 2.81152514, 3.81906115])"
            ]
          },
          "metadata": {},
          "execution_count": 67
        }
      ]
    },
    {
      "cell_type": "code",
      "source": [
        "dot"
      ],
      "metadata": {
        "colab": {
          "base_uri": "https://localhost:8080/"
        },
        "id": "qLqKoUGyFC3l",
        "outputId": "0acfa614-c99f-43c7-a5b8-a8465e7e2cae"
      },
      "execution_count": 68,
      "outputs": [
        {
          "output_type": "execute_result",
          "data": {
            "text/plain": [
              "1.3751816451637797"
            ]
          },
          "metadata": {},
          "execution_count": 68
        }
      ]
    },
    {
      "cell_type": "markdown",
      "source": [
        "# **Statistical Functions**"
      ],
      "metadata": {
        "id": "X0ce00IBFGTG"
      }
    },
    {
      "cell_type": "markdown",
      "source": [
        "*Let's first enter the calculations*"
      ],
      "metadata": {
        "id": "xOtQ_Dl-HZIN"
      }
    },
    {
      "cell_type": "code",
      "source": [
        "sqrt =  np.sqrt(25)\n",
        "ab = np.abs(-5)\n",
        "power = np.power(5, 2)\n",
        "log = np.log(5)\n",
        "expo = np.exp([2, 3]) # e(2) and e(7)\n",
        "min_list_1 = np.min(list_1)\n",
        "max_list_1 = np.max(list_1)"
      ],
      "metadata": {
        "id": "0NssR53IFYn2"
      },
      "execution_count": 86,
      "outputs": []
    },
    {
      "cell_type": "markdown",
      "source": [
        "*Now, let's look at the different results.*"
      ],
      "metadata": {
        "id": "UpayC8c7HUL1"
      }
    },
    {
      "cell_type": "code",
      "source": [
        "sqrt"
      ],
      "metadata": {
        "colab": {
          "base_uri": "https://localhost:8080/"
        },
        "id": "CH74FNfqHeUM",
        "outputId": "ecc9b376-cd90-4aa0-95c8-24184d238458"
      },
      "execution_count": 72,
      "outputs": [
        {
          "output_type": "execute_result",
          "data": {
            "text/plain": [
              "5.0"
            ]
          },
          "metadata": {},
          "execution_count": 72
        }
      ]
    },
    {
      "cell_type": "code",
      "source": [
        "ab"
      ],
      "metadata": {
        "colab": {
          "base_uri": "https://localhost:8080/"
        },
        "id": "lpYsnGFxHgSt",
        "outputId": "6a98e3b5-f43c-4140-8304-7385b929f000"
      },
      "execution_count": 73,
      "outputs": [
        {
          "output_type": "execute_result",
          "data": {
            "text/plain": [
              "5"
            ]
          },
          "metadata": {},
          "execution_count": 73
        }
      ]
    },
    {
      "cell_type": "code",
      "source": [
        "power"
      ],
      "metadata": {
        "colab": {
          "base_uri": "https://localhost:8080/"
        },
        "id": "nlBPj3CvHidq",
        "outputId": "5e67b506-fc02-4b99-994a-fdff2431e217"
      },
      "execution_count": 74,
      "outputs": [
        {
          "output_type": "execute_result",
          "data": {
            "text/plain": [
              "25"
            ]
          },
          "metadata": {},
          "execution_count": 74
        }
      ]
    },
    {
      "cell_type": "code",
      "source": [
        "log"
      ],
      "metadata": {
        "colab": {
          "base_uri": "https://localhost:8080/"
        },
        "id": "Lzt4wQS9HrDk",
        "outputId": "cf9c90ce-fd09-4dea-8953-eff53f8f8e3a"
      },
      "execution_count": 77,
      "outputs": [
        {
          "output_type": "execute_result",
          "data": {
            "text/plain": [
              "1.6094379124341003"
            ]
          },
          "metadata": {},
          "execution_count": 77
        }
      ]
    },
    {
      "cell_type": "code",
      "source": [
        "expo"
      ],
      "metadata": {
        "colab": {
          "base_uri": "https://localhost:8080/"
        },
        "id": "NHo6_ijFHy1X",
        "outputId": "87988fb8-4385-4c45-9865-304210ed2d8d"
      },
      "execution_count": 78,
      "outputs": [
        {
          "output_type": "execute_result",
          "data": {
            "text/plain": [
              "array([ 7.3890561 , 20.08553692])"
            ]
          },
          "metadata": {},
          "execution_count": 78
        }
      ]
    },
    {
      "cell_type": "code",
      "source": [
        "min_list_1"
      ],
      "metadata": {
        "colab": {
          "base_uri": "https://localhost:8080/"
        },
        "id": "-5lDqqTTILrp",
        "outputId": "31984437-845a-4a1a-c9f8-1445e9791f41"
      },
      "execution_count": 83,
      "outputs": [
        {
          "output_type": "execute_result",
          "data": {
            "text/plain": [
              "0.5248358412183715"
            ]
          },
          "metadata": {},
          "execution_count": 83
        }
      ]
    },
    {
      "cell_type": "code",
      "source": [
        "max_list_1"
      ],
      "metadata": {
        "colab": {
          "base_uri": "https://localhost:8080/"
        },
        "id": "uXE_54CsINo6",
        "outputId": "7771871e-f779-457c-e3fe-d922e280fb58"
      },
      "execution_count": 87,
      "outputs": [
        {
          "output_type": "execute_result",
          "data": {
            "text/plain": [
              "0.9201863949784175"
            ]
          },
          "metadata": {},
          "execution_count": 87
        }
      ]
    },
    {
      "cell_type": "markdown",
      "source": [
        "# **4. Delete**"
      ],
      "metadata": {
        "id": "s2hkcMc3Ii9u"
      }
    },
    {
      "cell_type": "markdown",
      "source": [
        "***Let's first visualize again our 'data' array.***"
      ],
      "metadata": {
        "id": "ApY5s37EMq3o"
      }
    },
    {
      "cell_type": "code",
      "source": [
        "data"
      ],
      "metadata": {
        "colab": {
          "base_uri": "https://localhost:8080/"
        },
        "id": "_S789VhxMxBk",
        "outputId": "6d734a42-7651-4408-9636-aa77529f54bc"
      },
      "execution_count": 88,
      "outputs": [
        {
          "output_type": "execute_result",
          "data": {
            "text/plain": [
              "array([[[0.09720237, 0.57855517, 0.32851135, 0.09045753],\n",
              "        [0.15621137, 0.3009563 , 0.99364617, 0.09373161],\n",
              "        [0.00721174, 0.86046265, 0.42262414, 0.38922245]],\n",
              "\n",
              "       [[0.77621116, 0.142538  , 0.78021992, 0.03084569],\n",
              "        [0.83679078, 0.35809691, 0.25145479, 0.69068056],\n",
              "        [0.13731619, 0.46913334, 0.3344226 , 0.15116951]]])"
            ]
          },
          "metadata": {},
          "execution_count": 88
        }
      ]
    },
    {
      "cell_type": "markdown",
      "source": [
        "***Now, let's say, we want to delete the first raw of each raw group.***"
      ],
      "metadata": {
        "id": "Qob1FPXHMzzi"
      }
    },
    {
      "cell_type": "code",
      "source": [
        "np.delete(data, 0, axis=1)"
      ],
      "metadata": {
        "colab": {
          "base_uri": "https://localhost:8080/"
        },
        "id": "eJrZwKMuM6Og",
        "outputId": "2aa9755d-1652-405e-8567-da4a181395d2"
      },
      "execution_count": 89,
      "outputs": [
        {
          "output_type": "execute_result",
          "data": {
            "text/plain": [
              "array([[[0.15621137, 0.3009563 , 0.99364617, 0.09373161],\n",
              "        [0.00721174, 0.86046265, 0.42262414, 0.38922245]],\n",
              "\n",
              "       [[0.83679078, 0.35809691, 0.25145479, 0.69068056],\n",
              "        [0.13731619, 0.46913334, 0.3344226 , 0.15116951]]])"
            ]
          },
          "metadata": {},
          "execution_count": 89
        }
      ]
    },
    {
      "cell_type": "markdown",
      "source": [
        "***Now, let's say, we want to save the array.***"
      ],
      "metadata": {
        "id": "-8Ei0Ve2MzwS"
      }
    },
    {
      "cell_type": "code",
      "source": [
        "np.save(\"array_name\", data)"
      ],
      "metadata": {
        "id": "er_VwqodOhGp"
      },
      "execution_count": null,
      "outputs": []
    }
  ]
}