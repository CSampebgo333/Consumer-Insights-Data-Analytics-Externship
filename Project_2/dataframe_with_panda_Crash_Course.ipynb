{
  "nbformat": 4,
  "nbformat_minor": 0,
  "metadata": {
    "colab": {
      "provenance": []
    },
    "kernelspec": {
      "name": "python3",
      "display_name": "Python 3"
    },
    "language_info": {
      "name": "python"
    }
  },
  "cells": [
    {
      "cell_type": "markdown",
      "source": [
        "# The following code sections were written during my learning process. They are intended solely for educational purposes."
      ],
      "metadata": {
        "id": "yO6pp8yUCle8"
      }
    },
    {
      "cell_type": "markdown",
      "source": [
        "**Step_1:** import **pandas** framework"
      ],
      "metadata": {
        "id": "6pWl5unZC8c4"
      }
    },
    {
      "cell_type": "code",
      "source": [
        "import pandas as pd"
      ],
      "metadata": {
        "id": "vhl6W70tC7X0"
      },
      "execution_count": null,
      "outputs": []
    },
    {
      "cell_type": "markdown",
      "source": [
        "**Step_2:** Create a **dataframe** from a **CSV file**."
      ],
      "metadata": {
        "id": "DjTrZFcuDIg9"
      }
    },
    {
      "cell_type": "code",
      "source": [
        "df = pd.read_csv(\"telco_churn.csv\")"
      ],
      "metadata": {
        "id": "7uj9c62hENGj"
      },
      "execution_count": null,
      "outputs": []
    },
    {
      "cell_type": "markdown",
      "source": [
        "**Step_3:** Create a **dataframe** from a **dictionary**."
      ],
      "metadata": {
        "id": "y0egoPqrEkXj"
      }
    },
    {
      "cell_type": "code",
      "source": [
        "my_dict = {\n",
        "    'student_id': [1132027, 2242027, 3352027],\n",
        "    'student_major': ['Computer Science', 'Computer Engineering', 'Business Administration'],\n",
        "    'student_country': ['Burkina Faso', 'Chad', 'Niger']\n",
        "}"
      ],
      "metadata": {
        "id": "l-isyUyBEp6X"
      },
      "execution_count": null,
      "outputs": []
    },
    {
      "cell_type": "code",
      "source": [
        "my_dict_df = pd.DataFrame.from_dict(my_dict)"
      ],
      "metadata": {
        "id": "S7MAubJRX1_4"
      },
      "execution_count": null,
      "outputs": []
    },
    {
      "cell_type": "markdown",
      "source": [
        "**Step_4:** Read the **csv file** from the top"
      ],
      "metadata": {
        "id": "q0QCZ3b3EbU-"
      }
    },
    {
      "cell_type": "code",
      "source": [
        "df.head()"
      ],
      "metadata": {
        "id": "WSLZeBMqEjLl"
      },
      "execution_count": null,
      "outputs": []
    },
    {
      "cell_type": "markdown",
      "source": [
        "**Step_5:** Read the dictionary dataframe"
      ],
      "metadata": {
        "id": "DTsPVl71G8mB"
      }
    },
    {
      "cell_type": "code",
      "source": [
        "my_dict_df.head()"
      ],
      "metadata": {
        "id": "R-l0pFkmHDWf"
      },
      "execution_count": null,
      "outputs": []
    },
    {
      "cell_type": "markdown",
      "source": [
        "**Step_6:** Read the **csv file** from the bottom"
      ],
      "metadata": {
        "id": "Q6ISZPbpKW5p"
      }
    },
    {
      "cell_type": "code",
      "source": [
        "df.tail(3)"
      ],
      "metadata": {
        "id": "rgNtyRLeKl8X"
      },
      "execution_count": null,
      "outputs": []
    },
    {
      "cell_type": "markdown",
      "source": [
        "**Step_7:** Show the **Colums** and the **Datatypes**"
      ],
      "metadata": {
        "id": "h7Two-x8LJwG"
      }
    },
    {
      "cell_type": "code",
      "source": [
        "df.columns # Show each colum title"
      ],
      "metadata": {
        "id": "LMvbj1gkLWmB"
      },
      "execution_count": null,
      "outputs": []
    },
    {
      "cell_type": "code",
      "source": [
        "df.dtypes # Show the type of data in each colum"
      ],
      "metadata": {
        "id": "zXKPlndmXxtS"
      },
      "execution_count": null,
      "outputs": []
    },
    {
      "cell_type": "markdown",
      "source": [
        "**Step_8:** Summary statistics"
      ],
      "metadata": {
        "id": "q0JuNLtCMGft"
      }
    },
    {
      "cell_type": "code",
      "source": [
        "df.describe() # For basic statistics of all type of data of the dataframe"
      ],
      "metadata": {
        "id": "5pvryIj1MLZf"
      },
      "execution_count": null,
      "outputs": []
    },
    {
      "cell_type": "code",
      "source": [
        "df.describe(include='object') # This just consider the items of types 'object' from the dataframe"
      ],
      "metadata": {
        "id": "k6l2UbcZXvmq"
      },
      "execution_count": null,
      "outputs": []
    },
    {
      "cell_type": "markdown",
      "source": [
        "Step_9: **Filtering** **specific colums** to visualize"
      ],
      "metadata": {
        "id": "8-xDTHrvOGdW"
      }
    },
    {
      "cell_type": "code",
      "source": [
        "df.State # With 'State' being the colum  name."
      ],
      "metadata": {
        "id": "iexO1w0gOOlN"
      },
      "execution_count": null,
      "outputs": []
    },
    {
      "cell_type": "code",
      "source": [
        "# However, it is a little bit different for colum whcih name is made by two or more words\n",
        "# eg:\n",
        "df['Area code'] # gives us for the colum named 'Area code'\n",
        "\n",
        "# NB: Ensure to not add space in the ['_in this part_'] because python will take it into account."
      ],
      "metadata": {
        "id": "JDxGdH0bXp3U"
      },
      "execution_count": null,
      "outputs": []
    },
    {
      "cell_type": "markdown",
      "source": [
        "**Step_10:** Filtering **multiples** colums"
      ],
      "metadata": {
        "id": "UgPVCKK2Pkz6"
      }
    },
    {
      "cell_type": "code",
      "source": [
        "df[['State', 'International plan', 'Area code']]"
      ],
      "metadata": {
        "id": "57iycrJEPr6H"
      },
      "execution_count": null,
      "outputs": []
    },
    {
      "cell_type": "markdown",
      "source": [
        "**Step_11:** Get a **unique value** within the colum."
      ],
      "metadata": {
        "id": "huV0l-izQjND"
      }
    },
    {
      "cell_type": "code",
      "source": [
        "df['Area code'].unique() # For 'Area code' colum"
      ],
      "metadata": {
        "id": "zM2EwybZQvNu"
      },
      "execution_count": null,
      "outputs": []
    },
    {
      "cell_type": "code",
      "source": [
        "df.State.unique() # For 'State' colum"
      ],
      "metadata": {
        "id": "HYkPpF3sXknT"
      },
      "execution_count": null,
      "outputs": []
    },
    {
      "cell_type": "markdown",
      "source": [
        "**Step_12:** How to filter trough **Row**\n",
        "eg: if we want to get all row with the 'International plan' sets to 'No', how will we proceed?"
      ],
      "metadata": {
        "id": "-5bXt-aZRh74"
      }
    },
    {
      "cell_type": "code",
      "source": [
        "df[df['International plan'] == 'No']"
      ],
      "metadata": {
        "id": "aYk9xtTOR4Ro"
      },
      "execution_count": null,
      "outputs": []
    },
    {
      "cell_type": "markdown",
      "source": [
        "**Step_13:** **How to combine conditions** to further filter trough **row**."
      ],
      "metadata": {
        "id": "jnICzn0XVRj-"
      }
    },
    {
      "cell_type": "code",
      "source": [
        "df[(df['International plan'] == 'No') & (df['Churn'] != False)]"
      ],
      "metadata": {
        "id": "5Lqk2fWLVe6D"
      },
      "execution_count": null,
      "outputs": []
    },
    {
      "cell_type": "markdown",
      "source": [
        "**Step_14:** How to **Index** using ***iloc***\n",
        "\n",
        "NB: ***iloc*** helps us loop trough the row which is the 'first integer' and a colum which is the 'second integer' at the same time using integers."
      ],
      "metadata": {
        "id": "J_SXn9OTWO-r"
      }
    },
    {
      "cell_type": "code",
      "source": [
        "df.iloc[13] # Gives us all the data of the 13th row."
      ],
      "metadata": {
        "id": "goR488XgWi6M"
      },
      "execution_count": null,
      "outputs": []
    },
    {
      "cell_type": "code",
      "source": [
        "df.iloc[20:31] # Gives us all data from row 20 to row 31 - 1 which is 30"
      ],
      "metadata": {
        "id": "iaBTwyXXZINU"
      },
      "execution_count": null,
      "outputs": []
    },
    {
      "cell_type": "code",
      "source": [
        "df.iloc[23, -1] # Gives the item of the 23rd row last colum."
      ],
      "metadata": {
        "id": "vEXbLsxdZ9Tq"
      },
      "execution_count": null,
      "outputs": []
    },
    {
      "cell_type": "code",
      "source": [
        "df.iloc[23, 0] # Gives the item of the 23rd row first colum."
      ],
      "metadata": {
        "id": "GAaFITO9apzQ"
      },
      "execution_count": null,
      "outputs": []
    },
    {
      "cell_type": "markdown",
      "source": [
        "**Step_15:** How to **Index** using ***loc***\n",
        "\n",
        "**NB:** ***loc*** helps us loop trough the colums.\n",
        "\n",
        "--- The set_index method is used to designate one or more columns as the index of the DataFrame.\n",
        "inplace=True modifies the DataFrame in place, meaning that the state DataFrame itself is changed and no new DataFrame is returned.\n",
        "\n",
        "--- If inplace were set to False, it would return a new DataFrame with the 'State' column set as the index, but state would remain unchanged.\n",
        "\n",
        "--- After this operation, the DataFrame state will use the values in the 'State' column as row labels (index), instead of the default integer index."
      ],
      "metadata": {
        "id": "bib6pqnWawWD"
      }
    },
    {
      "cell_type": "code",
      "source": [
        "state = df.copy() # Create a copy of the dataframe\n",
        "state.set_index('State', inplace = True) # Sets the 'State' column as the index of the DataFrame state."
      ],
      "metadata": {
        "id": "jXmtr9GAgPlD"
      },
      "execution_count": null,
      "outputs": []
    },
    {
      "cell_type": "code",
      "source": [
        "state.head()"
      ],
      "metadata": {
        "id": "zkG_Vi5wgl9g"
      },
      "execution_count": null,
      "outputs": []
    },
    {
      "cell_type": "code",
      "source": [
        "state.loc['OH'] # Gives all the data whose 'State' colum is 'OH'."
      ],
      "metadata": {
        "id": "Hme1VvfOiWuB"
      },
      "execution_count": null,
      "outputs": []
    },
    {
      "cell_type": "markdown",
      "source": [
        "# **Step_16: Updating**"
      ],
      "metadata": {
        "id": "NeLgHyrRkDBu"
      }
    },
    {
      "cell_type": "markdown",
      "source": [
        "**1.  Dropping rows**"
      ],
      "metadata": {
        "id": "HoM35qPikCgD"
      }
    },
    {
      "cell_type": "code",
      "source": [
        "df.isnull().sum()  # Give us the sum of the number of rows that have missed value for each colum."
      ],
      "metadata": {
        "id": "doe_e6yekfO6"
      },
      "execution_count": null,
      "outputs": []
    },
    {
      "cell_type": "code",
      "source": [
        "df.dropna(inplace = True) # Drops those rows, we are going to use the dropna method as the following:"
      ],
      "metadata": {
        "id": "zg8TZvO3lh3G"
      },
      "execution_count": null,
      "outputs": []
    },
    {
      "cell_type": "code",
      "source": [
        "df.isnull().sum()  # Check the final result"
      ],
      "metadata": {
        "id": "r1xuUYRql4dQ"
      },
      "execution_count": null,
      "outputs": []
    },
    {
      "cell_type": "markdown",
      "source": [
        "**2. Droping colums**"
      ],
      "metadata": {
        "id": "u2AIy3Nun8s1"
      }
    },
    {
      "cell_type": "code",
      "source": [
        "df.drop('Area code', axis = 1) # Deletes the 'Area code' colum. We added the axis because we are droping a colum not a row"
      ],
      "metadata": {
        "id": "PrH79BYMoBjS"
      },
      "execution_count": null,
      "outputs": []
    },
    {
      "cell_type": "markdown",
      "source": [
        "**3. Creating new colums and do calulations with existing colums value**"
      ],
      "metadata": {
        "id": "RU8ZKwbTowMB"
      }
    },
    {
      "cell_type": "code",
      "source": [
        "df['Total eve minutes + Total night minutes'] = df['Total eve minutes'] + df['Total night minutes']"
      ],
      "metadata": {
        "id": "s6nVJzJPo7X2"
      },
      "execution_count": null,
      "outputs": []
    },
    {
      "cell_type": "code",
      "source": [
        "df.head() # Show the result"
      ],
      "metadata": {
        "id": "RQjMAS5_pp_4"
      },
      "execution_count": null,
      "outputs": []
    },
    {
      "cell_type": "markdown",
      "source": [
        "**4. Updating an entire colum**"
      ],
      "metadata": {
        "id": "JHx0xuIxqAC5"
      }
    },
    {
      "cell_type": "code",
      "source": [
        "df['Total eve minutes + Total night minutes'] = 0 # Changes all the values in the colum to 0."
      ],
      "metadata": {
        "id": "lO7FEYZcqkC1"
      },
      "execution_count": null,
      "outputs": []
    },
    {
      "cell_type": "code",
      "source": [
        "df.head() # Show the result"
      ],
      "metadata": {
        "id": "FWaIp_iyqr-p"
      },
      "execution_count": null,
      "outputs": []
    },
    {
      "cell_type": "markdown",
      "source": [
        "**5. Updating a single value whitin a specific row at a specific colum**"
      ],
      "metadata": {
        "id": "Ik4D2mp6q7F8"
      }
    },
    {
      "cell_type": "code",
      "source": [
        "df.iloc[0, -1] = 100 # Change the value of the first row last colum to 100."
      ],
      "metadata": {
        "id": "clgO9oC7rJSi"
      },
      "execution_count": null,
      "outputs": []
    },
    {
      "cell_type": "code",
      "source": [
        "df.head() # Show the result."
      ],
      "metadata": {
        "id": "AAjrd0ParUCE"
      },
      "execution_count": null,
      "outputs": []
    },
    {
      "cell_type": "markdown",
      "source": [
        "**6. Conditions based Update using the 'apply' method**\n",
        "\n",
        "Let's create a new colum name 'Binary Churn' where we will replace 'True' or 'False' by '1' or '0' respectively."
      ],
      "metadata": {
        "id": "0mibvA4mvLLZ"
      }
    },
    {
      "cell_type": "code",
      "source": [
        "df['Binary Churn'] = df['Churn'].apply(lambda x: 1 if x == True else 0)"
      ],
      "metadata": {
        "id": "P2SoiRpNvR_k"
      },
      "execution_count": null,
      "outputs": []
    },
    {
      "cell_type": "code",
      "source": [
        "df.head(100) # Show the result."
      ],
      "metadata": {
        "id": "PtjLiM_FwIlV"
      },
      "execution_count": null,
      "outputs": []
    },
    {
      "cell_type": "markdown",
      "source": [
        "# **Step_16: Delete/Output**"
      ],
      "metadata": {
        "id": "Y6wSCvjewj8t"
      }
    },
    {
      "cell_type": "markdown",
      "source": [
        "**1. Output to CSV file**"
      ],
      "metadata": {
        "id": "mxirkDirxkW3"
      }
    },
    {
      "cell_type": "code",
      "source": [
        "df.to_csv('name_of_the_csv_file.csv')"
      ],
      "metadata": {
        "id": "FHM9c6EqwoQ2"
      },
      "execution_count": null,
      "outputs": []
    },
    {
      "cell_type": "markdown",
      "source": [
        "**2. Output to JSON file**"
      ],
      "metadata": {
        "id": "Z6bi2pxAx30P"
      }
    },
    {
      "cell_type": "code",
      "source": [
        "df.to_json()"
      ],
      "metadata": {
        "id": "3gxFRivQyA5e"
      },
      "execution_count": null,
      "outputs": []
    },
    {
      "cell_type": "markdown",
      "source": [
        "**3. Output to HTML file**"
      ],
      "metadata": {
        "id": "u0U1JqOuyIGd"
      }
    },
    {
      "cell_type": "code",
      "source": [
        "df.to_html()"
      ],
      "metadata": {
        "id": "Mg3t977LyLum"
      },
      "execution_count": null,
      "outputs": []
    },
    {
      "cell_type": "markdown",
      "source": [
        "**4. How to delete a dataframe**"
      ],
      "metadata": {
        "id": "LVRoH8P5zHW7"
      }
    },
    {
      "cell_type": "code",
      "source": [
        "del 'dataframe_name'"
      ],
      "metadata": {
        "id": "r1HWDriSzNQ0"
      },
      "execution_count": null,
      "outputs": []
    }
  ]
}