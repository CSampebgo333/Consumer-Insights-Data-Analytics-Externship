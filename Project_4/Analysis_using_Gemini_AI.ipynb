{
  "cells": [
    {
      "cell_type": "code",
      "execution_count": 1,
      "metadata": {
        "id": "w4wGCfhcqwEY"
      },
      "outputs": [],
      "source": [
        "import os\n",
        "import pandas as pd\n",
        "import google.generativeai as genai"
      ]
    },
    {
      "cell_type": "markdown",
      "metadata": {
        "id": "Gb5sxTaitYzL"
      },
      "source": [
        "## **STEP 1: Creating an API Key from Scratch**"
      ]
    },
    {
      "cell_type": "code",
      "execution_count": null,
      "metadata": {
        "id": "eMZKp51VqrhS"
      },
      "outputs": [],
      "source": [
        "genai.configure(api_key=\"My_API_Key\")\n",
        "\n",
        "# Create the model\n",
        "# See https://ai.google.dev/api/python/google/generativeai/GenerativeModel\n",
        "generation_config = {\n",
        "  \"temperature\": 1,\n",
        "  \"top_p\": 0.95,\n",
        "  \"top_k\": 64,\n",
        "  \"max_output_tokens\": 8192,\n",
        "  \"response_mime_type\": \"text/plain\",\n",
        "}\n",
        "\n",
        "model = genai.GenerativeModel(\n",
        "  model_name=\"gemini-1.5-flash\",\n",
        "  generation_config=generation_config,\n",
        "  # safety_settings = Adjust safety settings\n",
        "  # See https://ai.google.dev/gemini-api/docs/safety-settings\n",
        ")\n",
        "\n",
        "chat_session = model.start_chat(\n",
        "  history=[\n",
        "    {\n",
        "      \"role\": \"user\",\n",
        "      \"parts\": [\n",
        "        \"You are a genius programmer.\",\n",
        "      ],\n",
        "    }\n",
        "  ]\n",
        ")\n",
        "\n",
        "response = chat_session.send_message(\"write a python code to short an array in the most efficient way possible.\")\n",
        "\n",
        "print(response.text)"
      ]
    },
    {
      "cell_type": "markdown",
      "metadata": {
        "id": "sCTw3G8EyEMm"
      },
      "source": [
        "## **STEP 2: Chatbot Setup using Python and Gemini API**"
      ]
    },
    {
      "cell_type": "code",
      "execution_count": null,
      "metadata": {
        "colab": {
          "base_uri": "https://localhost:8080/",
          "height": 384
        },
        "id": "eX_U-zYNyKdB",
        "outputId": "ab3a3671-1978-456f-ebf7-b976daf581d8"
      },
      "outputs": [
        {
          "name": "stdout",
          "output_type": "stream",
          "text": [
            "Bartholomew the hamster was known for his impeccable hygiene. He meticulously groomed his fur every morning, meticulously cleaned his tiny teeth with a toothpick, and even insisted on wearing a miniature bathrobe while lounging in his wheel. \n",
            "\n",
            "One day, Bartholomew was enjoying a luxurious bath in his custom-made hamster-sized bathtub when he noticed a tiny, shimmering object floating in the water. It was a miniature monocle! Intrigued, Bartholomew cautiously retrieved it from the bath and examined it. It was perfectly crafted, complete with a tiny chain and a tiny, engraved \"B.\"\n",
            "\n",
            "\"Goodness me!\" exclaimed Bartholomew, feeling a surge of excitement. \"This must be mine! I've always dreamed of sporting a monocle!\" \n",
            "\n",
            "He carefully attached the monocle to his left eye, admiring his reflection in the bathtub. It felt a little strange, but in a very sophisticated way. \n",
            "\n",
            "From that day on, Bartholomew became quite the dandy. He strutted around his cage, monocle glinting, with a newfound air of confidence. He even started leaving his little bathrobe open, just to show off his monocle. \n",
            "\n",
            "One afternoon, while Bartholomew was proudly showing off his monocle to his hamster friend, Henrietta, a rather large, boisterous cat named Fluffy entered the room. \n",
            "\n",
            "Fluffy, being a cat of simple tastes, was not particularly impressed with Bartholomew's new accessory. She simply yawned and swatted at the monocle, sending it flying across the room. \n",
            "\n",
            "Bartholomew, understandably upset, scurried after his precious monocle. He found it nestled in a pile of dust bunnies, looking rather dusty. He huffed and puffed, trying to clean it with a tiny handkerchief, but the monocle remained stubbornly dusty.\n",
            "\n",
            "\"Oh dear,\" sighed Bartholomew, feeling defeated. \"I suppose even the most dashing of hamsters can't escape the indignity of a dusty monocle.\"\n",
            "\n",
            "He accepted his fate, realizing that maybe, just maybe, a hamster with a monocle was a bit much. From then on, Bartholomew returned to his usual, albeit slightly less dashing, self. And Fluffy continued to be a cat of simple tastes, finding far more entertainment in batting around balls of yarn than admiring a hamster's monocle. \n",
            "\n"
          ]
        }
      ],
      "source": [
        "# Function to set up a simple chatbot\n",
        "def simple_chatbot(api_key, message):\n",
        "    genai.configure(api_key=api_key)\n",
        "\n",
        "    model = genai.GenerativeModel(\n",
        "        model_name=\"gemini-1.5-flash\",\n",
        "        generation_config={\n",
        "            \"temperature\": 1,\n",
        "            \"top_p\": 0.95,\n",
        "            \"top_k\": 64,\n",
        "            \"max_output_tokens\": 8192,\n",
        "            \"response_mime_type\": \"text/plain\",\n",
        "        },\n",
        "    )\n",
        "\n",
        "    chat_session = model.start_chat(history=[])\n",
        "\n",
        "    response = chat_session.send_message(message)\n",
        "    return response.text\n",
        "\n",
        "# Replace 'your_api_key' with the actual API key\n",
        "api_key = \"My_API_Key\"\n",
        "\n",
        "message = \"Write a short funny story\"\n",
        "chatbot_response = simple_chatbot(api_key, message)\n",
        "print(chatbot_response)"
      ]
    },
    {
      "cell_type": "markdown",
      "metadata": {
        "id": "FkIGHysfyPuB"
      },
      "source": [
        "## **STEP 3: Integrating Gemini AI with Your Dataset**"
      ]
    },
    {
      "cell_type": "markdown",
      "metadata": {
        "id": "9VvdfUkO9NS5"
      },
      "source": [
        "### **Function building**"
      ]
    },
    {
      "cell_type": "code",
      "execution_count": 2,
      "metadata": {
        "id": "EC4NZ5P4yR1r"
      },
      "outputs": [],
      "source": [
        "# Load your dataset\n",
        "df = pd.read_csv('cleaned_data_df.csv')\n",
        "\n",
        "# Function to analyze 'content' column of reviews using Gemini AI\n",
        "def analyze_reviews(reviews, api_key, prompt_template):\n",
        "    genai.configure(api_key=api_key)\n",
        "\n",
        "    model = genai.GenerativeModel(\n",
        "        model_name=\"gemini-1.5-flash\",\n",
        "        generation_config={\n",
        "            \"temperature\": 1,\n",
        "            \"top_p\": 0.95,\n",
        "            \"top_k\": 64,\n",
        "            \"max_output_tokens\": 8192,\n",
        "            \"response_mime_type\": \"text/plain\",\n",
        "        },\n",
        "    )\n",
        "\n",
        "    chat_session = model.start_chat(history=[\n",
        "        {\n",
        "      \"role\": \"user\",\n",
        "      \"parts\": [\n",
        "        \"You are a professional Data Analyst working for Beats by Dre.\",\n",
        "      ],\n",
        "    }\n",
        "    ])\n",
        "\n",
        "    prompt = prompt_template\n",
        "    response = chat_session.send_message(prompt)\n",
        "    return response.text"
      ]
    },
    {
      "cell_type": "markdown",
      "metadata": {
        "id": "lvhkjRSF-ENf"
      },
      "source": [
        "### **Prompt 1: Highlighting Unmet Expectations**\n",
        "To pinpoint where customer expectations were not met, by seeking out mentions of disappointment or unfulfilled promises."
      ]
    },
    {
      "cell_type": "code",
      "execution_count": 3,
      "metadata": {
        "id": "yT6ZhS31-B7J",
        "colab": {
          "base_uri": "https://localhost:8080/",
          "height": 696
        },
        "outputId": "00fb9b8c-4ae9-4059-d500-cb7b2ff7ba62"
      },
      "outputs": [
        {
          "output_type": "stream",
          "name": "stdout",
          "text": [
            "## Beats by Dre Customer Reviews: Unmet Expectations & Unfulfilled Promises\n",
            "\n",
            "Here are some instances where customer expectations were not met or promises were unfulfilled by Beats products based on the provided reviews:\n",
            "\n",
            "**1. Beats Fit Pro:**\n",
            "\n",
            "* **Flimsy Case:** Several customers reported the case feeling cheap and flimsy, particularly the lid and hinge. This contradicts the expectation of a durable case for a premium product.\n",
            "* **Uneven Charging:** Some users experienced uneven charging between the earbuds, with one earbud charging slower than the other. This negatively impacts the usability of the product, as it can lead to one earbud dying before the other.\n",
            "* **Wingtips Discomfort:** Some users found the wingtips uncomfortable, especially for long periods of use or those with smaller ears. This contradicts the claim of a comfortable and secure fit.\n",
            "* **ANC Not as Effective:** A few customers were disappointed with the noise cancellation capabilities, finding it less effective than expected, especially compared to other brands.\n",
            "* **Volume Control Issues:** Some users found the volume controls fiddly and inconsistent, particularly when using buttons to control both volume and ANC/Transparency mode. This hampers the ease of use, especially during active use.\n",
            "* **No Wireless Charging:**  The lack of wireless charging was a common complaint, especially given the price point of the Beats Fit Pro. \n",
            "* **Short USB-C Cable:**  A short charging cable was included, requiring users to purchase a longer one separately. \n",
            "* **Durability Concerns:** Some reported the wingtips breaking or the ear tips getting stuck in their ears, highlighting potential durability issues.\n",
            "\n",
            "**2. Beats Powerbeats Pro:**\n",
            "\n",
            "* **Charging Issues:**  Several users reported frequent issues with the charging case, where one or both earbuds wouldn't charge properly due to misalignment with the charging contacts. This is a significant design flaw that negatively impacts usability.\n",
            "* **Sound Quality:** Some customers felt the sound quality was \"ho hum\" and not as good as they expected for the price.\n",
            "* **Lack of Features:** The Powerbeats Pro lack features like noise cancellation and wireless charging that are present in other earbuds at a similar price point. \n",
            "\n",
            "**3. Beats Studio Buds:**\n",
            "\n",
            "* **Flimsy Case:** The case was described as the \"flimsiest\" of all the tested earbuds, with a weak hinge that felt prone to breaking. This is a concern for durability and longevity.\n",
            "* **Fit Issues:** The Studio Buds were found to slip out of ears during workouts, compromising their intended use for active lifestyles.\n",
            "\n",
            "**4. Beats Solo3 Wireless On-Ear Headphones:**\n",
            "\n",
            "* **Ear Cover Size:** Some users found the ear covers to be uncomfortable for extended periods due to not fully covering the ears, especially those with sensitive ears. This compromises the comfort advertised for the product.\n",
            "\n",
            "**5. Other:**\n",
            "\n",
            "* **Battery Life:** Some customers were disappointed with the battery life, especially when using features like noise cancellation. \n",
            "* **Sound Quality:** A few reviews mentioned a lack of punchy bass, particularly for Beats, which are known for their bass-heavy sound.\n",
            "* **Mic Quality:**  Some customers reported issues with the microphone, with the other person on the call hearing excessive background noise. \n",
            "\n",
            "It's important to note that these are just a few examples from the provided reviews. Individual experiences can vary, and some customers may be satisfied with the product despite these shortcomings. However, the recurring themes of flimsy cases, uneven charging, fit issues, and lack of features compared to competitors highlight potential areas where Beats can improve their products to better meet customer expectations. \n",
            "\n"
          ]
        }
      ],
      "source": [
        "# Select a subset of reviews\n",
        "reviews = df['content'].head(200).tolist()\n",
        "\n",
        "# Prompt 1:\n",
        "prompt_unmet_expectations = \"From the following customer reviews, highlight instances where customer expectations were not met or promises were unfulfilled by Beats's products:\\\\n\\\\n\" + \"\\\\n\\\\n\".join(reviews)\n",
        "\n",
        "# Replace 'your_api_key' with the actual API key\n",
        "api_key = \"My_API_Key\"\n",
        "\n",
        "# Define the prompt template\n",
        "prompt_template = prompt_unmet_expectations\n",
        "\n",
        "insights = analyze_reviews(reviews, api_key, prompt_template)\n",
        "print(insights)"
      ]
    },
    {
      "cell_type": "markdown",
      "metadata": {
        "id": "xL9FiunD-Q15"
      },
      "source": [
        "### **Prompt 2: Detecting Comparisons with Competitors**\n",
        "To identify how customers compare the product with competitors, by focusing on extracting these comparisons."
      ]
    },
    {
      "cell_type": "code",
      "execution_count": 4,
      "metadata": {
        "id": "hdetHNBl-SRy",
        "colab": {
          "base_uri": "https://localhost:8080/",
          "height": 627
        },
        "outputId": "3d5e01e3-257d-40c0-e023-396eed14f05a"
      },
      "outputs": [
        {
          "output_type": "stream",
          "name": "stdout",
          "text": [
            "Here are some examples of comparisons between Beats products and their competitors found in the customer reviews:\n",
            "\n",
            "**Beats Fit Pro vs. AirPods Pro**\n",
            "\n",
            "* **Fit and Security:** Several reviewers mention the Beats Fit Pro's wingtip design as superior for a secure fit during workouts and running compared to the AirPods Pro, which are prone to falling out for some users.\n",
            "* **Noise Cancellation:**  While some reviewers found the noise cancellation on Beats Fit Pro to be comparable to AirPods Pro, others felt the AirPods Pro offered better noise cancellation.\n",
            "* **Sound Quality:**  Reviewers generally found the sound quality of both earbuds to be good, but some noted the AirPods Pro 2 had slightly better audio quality than the Beats Fit Pro.\n",
            "* **Features:**  Beats Fit Pro and AirPods Pro share features like the H1 chip, transparency mode, and spatial audio, but Beats Fit Pro lack wireless charging and have a smaller, less durable case compared to AirPods Pro.\n",
            "\n",
            "**Beats Fit Pro vs. Bose QuietComfort Earbuds**\n",
            "\n",
            "* **Fit and Comfort:** Beats Fit Pro are consistently praised for their comfort and secure fit, especially during workouts, while the Bose QuietComfort Earbuds are described as heavy and less comfortable.\n",
            "* **Noise Cancellation:** Bose QuietComfort Earbuds are seen as having slightly better noise cancellation, but the Beats Fit Pro's noise cancellation is considered sufficient by many reviewers.\n",
            "* **Other Features:** Beats Fit Pro have physical buttons, which are preferred by many for control accuracy, while the Bose QuietComfort Earbuds use touch controls that can be unreliable.\n",
            "\n",
            "**Beats Fit Pro vs. Powerbeats Pro**\n",
            "\n",
            "* **Sound Quality:**  The Beats Fit Pro are considered to have better sound quality than the Powerbeats Pro, especially in the mid-range and highs.\n",
            "* **Fit and Security:** Both have secure fit designs, but the Beats Fit Pro's wingtip design is seen as more comfortable for some.\n",
            "* **Features:** Beats Fit Pro offer noise cancellation and a more compact case, while Powerbeats Pro have a volume rocker and a hook design that wraps around the ear.\n",
            "\n",
            "**Beats Fit Pro vs. Other Brands**\n",
            "\n",
            "* **Physical Buttons:**  A major selling point for Beats Fit Pro is their physical buttons, which are appreciated for their reliability and accuracy compared to touch controls on other earbuds.\n",
            "* **Fit and Stability:** The wingtip design of Beats Fit Pro is often mentioned as a significant advantage for secure fit during exercise, setting them apart from other earbuds that tend to fall out.\n",
            "* **Value for Money:**  Several reviewers found the Beats Fit Pro to be a good value for the money compared to other brands, offering comparable sound quality and features at a lower price.\n",
            "\n",
            "**Beats Fit Pro vs. Other Beats Products**\n",
            "\n",
            "* **Beats Fit Pro vs. Beats Studio Buds:** The Beats Fit Pro are preferred for their secure fit during workouts, while the Beats Studio Buds are considered less stable.\n",
            "* **Beats Fit Pro vs. Powerbeats Pro:**  While the Powerbeats Pro are popular for their hook design and secure fit for running, the Beats Fit Pro are seen as more comfortable and have better sound quality.\n",
            "\n",
            "Overall, the customer reviews highlight the Beats Fit Pro's strengths in terms of fit, stability, and features like noise cancellation, making them a popular choice for active users. The comparisons with other brands show that they offer a competitive alternative in terms of sound quality, comfort, and value. However, the smaller, less durable case and the lack of wireless charging are recurring drawbacks noted by several reviewers. \n",
            "\n"
          ]
        }
      ],
      "source": [
        "# Select a subset of reviews\n",
        "reviews = df['content'].head(200).tolist()\n",
        "\n",
        "# prompt 2:\n",
        "prompt_competitor_comparisons = \"From the following customer reviews, find examples of comparisons between Beats's products and their competitors:\\\\n\\\\n\" + \"\\\\n\\\\n\".join(reviews)\n",
        "\n",
        "# Replace 'your_api_key' with the actual API key\n",
        "api_key = \"My_API_Key\"\n",
        "\n",
        "# Define the prompt template\n",
        "prompt_template = prompt_competitor_comparisons\n",
        "\n",
        "insights = analyze_reviews(reviews, api_key, prompt_template)\n",
        "print(insights)"
      ]
    },
    {
      "cell_type": "markdown",
      "metadata": {
        "id": "qxWA2tUe-SsF"
      },
      "source": [
        "### **Prompt 3: Analyzing Impact of Product Updates**\n",
        "To assess how product updates or changes have been received by looking for mentions of these updates and customer reactions."
      ]
    },
    {
      "cell_type": "code",
      "execution_count": 5,
      "metadata": {
        "id": "OmUeJ3Ca-T9n",
        "colab": {
          "base_uri": "https://localhost:8080/",
          "height": 801
        },
        "outputId": "cf19e1cb-65ea-42f7-e640-846a358dff45"
      },
      "outputs": [
        {
          "output_type": "stream",
          "name": "stdout",
          "text": [
            "## Beats by Dre Product Updates Analysis: Customer Reviews Insights\n",
            "\n",
            "This analysis examines customer reviews to understand how Beats by Dre product updates and changes have been received by consumers. The reviews highlight both positive and negative feedback, focusing on key aspects like:\n",
            "\n",
            "**1. Fit and Comfort:**\n",
            "\n",
            "* **Beats Fit Pro:**  Reviews consistently praise the **secure fit** provided by the wingtips, making them ideal for active users like runners and gym-goers.  However, some users with smaller ears find the wingtips uncomfortable or report fatigue after extended wear. \n",
            "* **Beats Studio Buds:**  While comfortable, they are reported to **fall out during workouts** due to the lack of wingtips.\n",
            "* **Powerbeats Pro:**  While lauded for their secure fit due to the hook design, some users experience discomfort or find them difficult to insert.  Additionally, the charging case often causes issues. \n",
            "\n",
            "**2. Sound Quality:**\n",
            "\n",
            "* **Beats Fit Pro:**  Generally praised for **excellent sound quality**, especially the **bass response**.  The adaptive EQ feature in the Beats app enhances the listening experience for many. Some users find the bass heavy, and some note the ANC isn't as impressive as on other high-end earbuds. \n",
            "* **Beats Studio Buds:**  Customers appreciate the **solid bass and overall sound quality**, but it doesn't quite reach the same level as the Fit Pro. \n",
            "\n",
            "**3. Noise Cancellation:**\n",
            "\n",
            "* **Beats Fit Pro:**  The ANC is generally considered **\"good,\"** but not the best in the market. It effectively blocks out low-frequency noises like mechanical hums, but struggles with higher-frequency noises and doesn't fully eliminate all ambient sound.\n",
            "* **Beats Studio Buds:**  Similar to the Fit Pro, ANC performance is **adequate** but not exceptional.\n",
            "\n",
            "**4. Features and Functionality:**\n",
            "\n",
            "* **Beats Fit Pro:**  Highly appreciated for features like **fast charging, transparency mode, and seamless integration with Apple devices**. However, the lack of **wireless charging** is a common complaint, especially at this price point. \n",
            "* **Beats Studio Buds:**  Some users mention **better-than-average noise cancellation** and appreciate the physical buttons.  However, the flimsy case is a recurring issue.\n",
            "\n",
            "**5. Case Quality:**\n",
            "\n",
            "* **Across all Beats models:**  A consistent theme across multiple reviews is the **lack of durability in the charging cases**. They are often described as flimsy, prone to scratching, and not as robust as the cases offered by competitors like Apple. \n",
            "\n",
            "**Overall Reception of Product Updates:**\n",
            "\n",
            "* **Beats Fit Pro:**  The Fit Pro, being a newer model, seems to have received **positive feedback overall**, particularly from those seeking secure, comfortable earbuds for active lifestyles. However, the case quality and lack of wireless charging remain drawbacks.\n",
            "* **Beats Studio Buds:**  The Studio Buds are **generally well-received**, but the lack of a secure fit for workouts and the flimsy case are deterrents for some.\n",
            "* **Powerbeats Pro:**  Despite their age, they are still popular among those who value their secure fit. However, the charging issues are a significant drawback and prevent many from recommending them.\n",
            "\n",
            "**Key Takeaways for Beats by Dre:**\n",
            "\n",
            "* **Prioritize Case Quality:**  Addressing the durability issues of the charging cases is crucial to improve customer satisfaction.\n",
            "* **Enhance Noise Cancellation:**  While the ANC performance is decent, investing in better technology would make the Fit Pro more competitive with rivals. \n",
            "* **Consider Wireless Charging:**  Wireless charging is becoming increasingly expected at this price range, and its absence is a major disadvantage.\n",
            "* **Improve Fit and Comfort:**  Further refining the fit and comfort of the Fit Pro, especially for users with smaller ears, is important to ensure a wider range of consumers find them comfortable. \n",
            "\n",
            "By addressing these key concerns, Beats can continue to improve its product lineup and maintain its strong position in the competitive world of wireless earbuds. \n",
            "\n"
          ]
        }
      ],
      "source": [
        "# Select a subset of reviews\n",
        "reviews = df['content'].head(200).tolist()\n",
        "\n",
        "# Prompt 3:\n",
        "prompt_product_updates_impact = \"Analyze the following customer reviews to assess how Beats's products updates or changes have been received by customers:\\\\n\\\\n\" + \"\\\\n\\\\n\".join(reviews)\n",
        "\n",
        "# Replace 'your_api_key' with the actual API key\n",
        "api_key = \"My_API_Key\"\n",
        "\n",
        "# Define the prompt template\n",
        "prompt_template = prompt_product_updates_impact\n",
        "\n",
        "insights = analyze_reviews(reviews, api_key, prompt_template)\n",
        "print(insights)"
      ]
    },
    {
      "cell_type": "markdown",
      "source": [
        "# Insights generated."
      ],
      "metadata": {
        "id": "3S0DGuzIGcu7"
      }
    },
    {
      "cell_type": "markdown",
      "source": [
        "#### Insights from Prompt 1:"
      ],
      "metadata": {
        "id": "3x7mIUHcGf8P"
      }
    },
    {
      "cell_type": "markdown",
      "source": [
        "##### Beats by Dre Customer Reviews: Unmet Expectations & Unfulfilled Promises\n",
        "\n",
        "Here are some instances where customer expectations were not met or promises were unfulfilled by Beats products based on the provided reviews:\n",
        "\n",
        "**1. Beats Fit Pro:**\n",
        "\n",
        "* **Flimsy Case:** Several customers reported the case feeling cheap and flimsy, particularly the lid and hinge. This contradicts the expectation of a durable case for a premium product.\n",
        "* **Uneven Charging:** Some users experienced uneven charging between the earbuds, with one earbud charging slower than the other. This negatively impacts the usability of the product, as it can lead to one earbud dying before the other.\n",
        "* **Wingtips Discomfort:** Some users found the wingtips uncomfortable, especially for long periods of use or those with smaller ears. This contradicts the claim of a comfortable and secure fit.\n",
        "* **ANC Not as Effective:** A few customers were disappointed with the noise cancellation capabilities, finding it less effective than expected, especially compared to other brands.\n",
        "* **Volume Control Issues:** Some users found the volume controls fiddly and inconsistent, particularly when using buttons to control both volume and ANC/Transparency mode. This hampers the ease of use, especially during active use.\n",
        "* **No Wireless Charging:**  The lack of wireless charging was a common complaint, especially given the price point of the Beats Fit Pro.\n",
        "* **Short USB-C Cable:**  A short charging cable was included, requiring users to purchase a longer one separately.\n",
        "* **Durability Concerns:** Some reported the wingtips breaking or the ear tips getting stuck in their ears, highlighting potential durability issues.\n",
        "\n",
        "**2. Beats Powerbeats Pro:**\n",
        "\n",
        "* **Charging Issues:**  Several users reported frequent issues with the charging case, where one or both earbuds wouldn't charge properly due to misalignment with the charging contacts. This is a significant design flaw that negatively impacts usability.\n",
        "* **Sound Quality:** Some customers felt the sound quality was \"ho hum\" and not as good as they expected for the price.\n",
        "* **Lack of Features:** The Powerbeats Pro lack features like noise cancellation and wireless charging that are present in other earbuds at a similar price point.\n",
        "\n",
        "**3. Beats Studio Buds:**\n",
        "\n",
        "* **Flimsy Case:** The case was described as the \"flimsiest\" of all the tested earbuds, with a weak hinge that felt prone to breaking. This is a concern for durability and longevity.\n",
        "* **Fit Issues:** The Studio Buds were found to slip out of ears during workouts, compromising their intended use for active lifestyles.\n",
        "\n",
        "**4. Beats Solo3 Wireless On-Ear Headphones:**\n",
        "\n",
        "* **Ear Cover Size:** Some users found the ear covers to be uncomfortable for extended periods due to not fully covering the ears, especially those with sensitive ears. This compromises the comfort advertised for the product.\n",
        "\n",
        "**5. Other:**\n",
        "\n",
        "* **Battery Life:** Some customers were disappointed with the battery life, especially when using features like noise cancellation.\n",
        "* **Sound Quality:** A few reviews mentioned a lack of punchy bass, particularly for Beats, which are known for their bass-heavy sound.\n",
        "* **Mic Quality:**  Some customers reported issues with the microphone, with the other person on the call hearing excessive background noise.\n",
        "\n",
        "It's important to note that these are just a few examples from the provided reviews. Individual experiences can vary, and some customers may be satisfied with the product despite these shortcomings. However, the recurring themes of flimsy cases, uneven charging, fit issues, and lack of features compared to competitors highlight potential areas where Beats can improve their products to better meet customer expectations."
      ],
      "metadata": {
        "id": "DK_Clh-fGlgy"
      }
    },
    {
      "cell_type": "markdown",
      "source": [
        "#### Insights from Prompt 2:"
      ],
      "metadata": {
        "id": "7jqgnzd5G7AR"
      }
    },
    {
      "cell_type": "markdown",
      "source": [
        "Here are some examples of comparisons between Beats products and their competitors found in the customer reviews:\n",
        "\n",
        "**Beats Fit Pro vs. AirPods Pro**\n",
        "\n",
        "* **Fit and Security:** Several reviewers mention the Beats Fit Pro's wingtip design as superior for a secure fit during workouts and running compared to the AirPods Pro, which are prone to falling out for some users.\n",
        "* **Noise Cancellation:**  While some reviewers found the noise cancellation on Beats Fit Pro to be comparable to AirPods Pro, others felt the AirPods Pro offered better noise cancellation.\n",
        "* **Sound Quality:**  Reviewers generally found the sound quality of both earbuds to be good, but some noted the AirPods Pro 2 had slightly better audio quality than the Beats Fit Pro.\n",
        "* **Features:**  Beats Fit Pro and AirPods Pro share features like the H1 chip, transparency mode, and spatial audio, but Beats Fit Pro lack wireless charging and have a smaller, less durable case compared to AirPods Pro.\n",
        "\n",
        "**Beats Fit Pro vs. Bose QuietComfort Earbuds**\n",
        "\n",
        "* **Fit and Comfort:** Beats Fit Pro are consistently praised for their comfort and secure fit, especially during workouts, while the Bose QuietComfort Earbuds are described as heavy and less comfortable.\n",
        "* **Noise Cancellation:** Bose QuietComfort Earbuds are seen as having slightly better noise cancellation, but the Beats Fit Pro's noise cancellation is considered sufficient by many reviewers.\n",
        "* **Other Features:** Beats Fit Pro have physical buttons, which are preferred by many for control accuracy, while the Bose QuietComfort Earbuds use touch controls that can be unreliable.\n",
        "\n",
        "**Beats Fit Pro vs. Powerbeats Pro**\n",
        "\n",
        "* **Sound Quality:**  The Beats Fit Pro are considered to have better sound quality than the Powerbeats Pro, especially in the mid-range and highs.\n",
        "* **Fit and Security:** Both have secure fit designs, but the Beats Fit Pro's wingtip design is seen as more comfortable for some.\n",
        "* **Features:** Beats Fit Pro offer noise cancellation and a more compact case, while Powerbeats Pro have a volume rocker and a hook design that wraps around the ear.\n",
        "\n",
        "**Beats Fit Pro vs. Other Brands**\n",
        "\n",
        "* **Physical Buttons:**  A major selling point for Beats Fit Pro is their physical buttons, which are appreciated for their reliability and accuracy compared to touch controls on other earbuds.\n",
        "* **Fit and Stability:** The wingtip design of Beats Fit Pro is often mentioned as a significant advantage for secure fit during exercise, setting them apart from other earbuds that tend to fall out.\n",
        "* **Value for Money:**  Several reviewers found the Beats Fit Pro to be a good value for the money compared to other brands, offering comparable sound quality and features at a lower price.\n",
        "\n",
        "**Beats Fit Pro vs. Other Beats Products**\n",
        "\n",
        "* **Beats Fit Pro vs. Beats Studio Buds:** The Beats Fit Pro are preferred for their secure fit during workouts, while the Beats Studio Buds are considered less stable.\n",
        "* **Beats Fit Pro vs. Powerbeats Pro:**  While the Powerbeats Pro are popular for their hook design and secure fit for running, the Beats Fit Pro are seen as more comfortable and have better sound quality.\n",
        "\n",
        "Overall, the customer reviews highlight the Beats Fit Pro's strengths in terms of fit, stability, and features like noise cancellation, making them a popular choice for active users. The comparisons with other brands show that they offer a competitive alternative in terms of sound quality, comfort, and value. However, the smaller, less durable case and the lack of wireless charging are recurring drawbacks noted by several reviewers."
      ],
      "metadata": {
        "id": "a-a4xuAQHCeq"
      }
    },
    {
      "cell_type": "markdown",
      "source": [
        "#### Insights from Prompt 3:"
      ],
      "metadata": {
        "id": "8cXRAyDzHGZ1"
      }
    },
    {
      "cell_type": "markdown",
      "source": [
        "##### Beats by Dre Product Updates Analysis: Customer Reviews Insights\n",
        "\n",
        "This analysis examines customer reviews to understand how Beats by Dre product updates and changes have been received by consumers. The reviews highlight both positive and negative feedback, focusing on key aspects like:\n",
        "\n",
        "**1. Fit and Comfort:**\n",
        "\n",
        "* **Beats Fit Pro:**  Reviews consistently praise the **secure fit** provided by the wingtips, making them ideal for active users like runners and gym-goers.  However, some users with smaller ears find the wingtips uncomfortable or report fatigue after extended wear.\n",
        "* **Beats Studio Buds:**  While comfortable, they are reported to **fall out during workouts** due to the lack of wingtips.\n",
        "* **Powerbeats Pro:**  While lauded for their secure fit due to the hook design, some users experience discomfort or find them difficult to insert.  Additionally, the charging case often causes issues.\n",
        "\n",
        "**2. Sound Quality:**\n",
        "\n",
        "* **Beats Fit Pro:**  Generally praised for **excellent sound quality**, especially the **bass response**.  The adaptive EQ feature in the Beats app enhances the listening experience for many. Some users find the bass heavy, and some note the ANC isn't as impressive as on other high-end earbuds.\n",
        "* **Beats Studio Buds:**  Customers appreciate the **solid bass and overall sound quality**, but it doesn't quite reach the same level as the Fit Pro.\n",
        "\n",
        "**3. Noise Cancellation:**\n",
        "\n",
        "* **Beats Fit Pro:**  The ANC is generally considered **\"good,\"** but not the best in the market. It effectively blocks out low-frequency noises like mechanical hums, but struggles with higher-frequency noises and doesn't fully eliminate all ambient sound.\n",
        "* **Beats Studio Buds:**  Similar to the Fit Pro, ANC performance is **adequate** but not exceptional.\n",
        "\n",
        "**4. Features and Functionality:**\n",
        "\n",
        "* **Beats Fit Pro:**  Highly appreciated for features like **fast charging, transparency mode, and seamless integration with Apple devices**. However, the lack of **wireless charging** is a common complaint, especially at this price point.\n",
        "* **Beats Studio Buds:**  Some users mention **better-than-average noise cancellation** and appreciate the physical buttons.  However, the flimsy case is a recurring issue.\n",
        "\n",
        "**5. Case Quality:**\n",
        "\n",
        "* **Across all Beats models:**  A consistent theme across multiple reviews is the **lack of durability in the charging cases**. They are often described as flimsy, prone to scratching, and not as robust as the cases offered by competitors like Apple.\n",
        "\n",
        "**Overall Reception of Product Updates:**\n",
        "\n",
        "* **Beats Fit Pro:**  The Fit Pro, being a newer model, seems to have received **positive feedback overall**, particularly from those seeking secure, comfortable earbuds for active lifestyles. However, the case quality and lack of wireless charging remain drawbacks.\n",
        "* **Beats Studio Buds:**  The Studio Buds are **generally well-received**, but the lack of a secure fit for workouts and the flimsy case are deterrents for some.\n",
        "* **Powerbeats Pro:**  Despite their age, they are still popular among those who value their secure fit. However, the charging issues are a significant drawback and prevent many from recommending them.\n",
        "\n",
        "**Key Takeaways for Beats by Dre:**\n",
        "\n",
        "* **Prioritize Case Quality:**  Addressing the durability issues of the charging cases is crucial to improve customer satisfaction.\n",
        "* **Enhance Noise Cancellation:**  While the ANC performance is decent, investing in better technology would make the Fit Pro more competitive with rivals.\n",
        "* **Consider Wireless Charging:**  Wireless charging is becoming increasingly expected at this price range, and its absence is a major disadvantage.\n",
        "* **Improve Fit and Comfort:**  Further refining the fit and comfort of the Fit Pro, especially for users with smaller ears, is important to ensure a wider range of consumers find them comfortable.\n",
        "\n",
        "By addressing these key concerns, Beats can continue to improve its product lineup and maintain its strong position in the competitive world of wireless earbuds."
      ],
      "metadata": {
        "id": "UmLpp_BqHOIG"
      }
    }
  ],
  "metadata": {
    "colab": {
      "provenance": []
    },
    "kernelspec": {
      "display_name": "Python 3",
      "name": "python3"
    },
    "language_info": {
      "name": "python"
    }
  },
  "nbformat": 4,
  "nbformat_minor": 0
}